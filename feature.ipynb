{
 "cells": [
  {
   "cell_type": "raw",
   "metadata": {},
   "source": [
    "This notebook describes the implementation of deconvnets(transpose convolution) in keras and further use it for the purpose of feature visualization."
   ]
  },
  {
   "cell_type": "code",
   "execution_count": 1,
   "metadata": {},
   "outputs": [],
   "source": [
    "# Import necessary libraries\n",
    "import numpy as np\n",
    "import sys\n",
    "import time\n",
    "\n",
    "from PIL import Image\n",
    "import PIL"
   ]
  },
  {
   "cell_type": "code",
   "execution_count": 2,
   "metadata": {},
   "outputs": [
    {
     "name": "stderr",
     "output_type": "stream",
     "text": [
      "Using TensorFlow backend.\n"
     ]
    }
   ],
   "source": [
    "import tensorflow as tf\n",
    "\n",
    "# from tensorflow import keras\n",
    "import keras"
   ]
  },
  {
   "cell_type": "code",
   "execution_count": 3,
   "metadata": {},
   "outputs": [],
   "source": [
    "from keras.layers import Input, InputLayer, Flatten, Activation, Dense, Conv2D\n",
    "\n",
    "from keras.layers.convolutional import Convolution2D, MaxPooling2D"
   ]
  },
  {
   "cell_type": "code",
   "execution_count": 4,
   "metadata": {},
   "outputs": [],
   "source": [
    "from keras.activations  import *\n",
    "from keras.models       import Model, Sequential\n",
    "from keras.applications import vgg16, imagenet_utils\n",
    "\n",
    "import keras.backend as K"
   ]
  },
  {
   "cell_type": "code",
   "execution_count": 5,
   "metadata": {},
   "outputs": [],
   "source": [
    "import math\n",
    "import matplotlib.pyplot as plt"
   ]
  },
  {
   "cell_type": "raw",
   "metadata": {},
   "source": [
    "Here for each layer we have defined a class for each type of layer. We have defined methods for forward pass\n",
    "and backward pass. During backward pass we use deconvnet. Here the term deconvolution is used for decribing transpose convolution operation."
   ]
  },
  {
   "cell_type": "code",
   "execution_count": 6,
   "metadata": {},
   "outputs": [],
   "source": [
    "class DConvolution2D(object):\n",
    "    \n",
    "    def __init__(self, layer):\n",
    "\n",
    "        self.layer = layer\n",
    "\n",
    "        weights = layer.get_weights()\n",
    "        W = weights[0]\n",
    "        b = weights[1]\n",
    "\n",
    "        filters = W.shape[3]\n",
    "\n",
    "        up_row = W.shape[0]\n",
    "        up_col = W.shape[1]\n",
    "        \n",
    "        input_img = Input(shape = layer.input_shape[1:])\n",
    "\n",
    "        output = Conv2D(filters, (up_row, up_col), \n",
    "                        kernel_initializer = tf.constant_initializer(W),\n",
    "                        bias_initializer   = tf.constant_initializer(b),\n",
    "                        padding='same'\n",
    "                        )(input_img)\n",
    "        \n",
    "        self.up_func = K.function([input_img, K.learning_phase()], [output])\n",
    "        \n",
    "        # Deconv filter (exchange no of filters and depth of each filter)\n",
    "        W = np.transpose(W, (0,1,3,2))\n",
    "        \n",
    "        # Reverse columns and rows\n",
    "        W = W[::-1, ::-1,:,:]\n",
    "        \n",
    "        down_filters = W.shape[3]\n",
    "        down_row = W.shape[0]\n",
    "        down_col = W.shape[1]\n",
    "        \n",
    "        b = np.zeros(down_filters)\n",
    "        \n",
    "        input_d = Input(shape = layer.output_shape[1:])\n",
    "\n",
    "        output = Conv2D(down_filters, (down_row, down_col),\n",
    "                        kernel_initializer = tf.constant_initializer(W),\n",
    "                        bias_initializer   = tf.constant_initializer(b),\n",
    "                        padding = 'same'\n",
    "                       )(input_d)\n",
    "        \n",
    "        self.down_func = K.function([input_d, K.learning_phase()], [output])\n",
    "\n",
    "    def up(self, data, learning_phase = 0):\n",
    "        #Forward pass\n",
    "        self.up_data = self.up_func([data, learning_phase])\n",
    "        self.up_data = np.squeeze(self.up_data, axis=0)\n",
    "        self.up_data = np.expand_dims(self.up_data, axis=0)\n",
    "        \n",
    "        # print(self.up_data.shape)\n",
    "        return self.up_data\n",
    "\n",
    "    def down(self, data, learning_phase = 0):\n",
    "        # Backward pass\n",
    "        self.down_data = self.down_func([data, learning_phase])\n",
    "        self.down_data = np.squeeze(self.down_data, axis=0)\n",
    "        self.down_data = np.expand_dims(self.down_data, axis=0)\n",
    "        \n",
    "        # print(self.down_data.shape)\n",
    "        return self.down_data"
   ]
  },
  {
   "cell_type": "code",
   "execution_count": 7,
   "metadata": {},
   "outputs": [],
   "source": [
    "class DActivation(object):\n",
    "    def __init__(self, layer, linear = False):\n",
    "        \n",
    "        self.layer = layer\n",
    "        self.linear = linear\n",
    "        self.activation = layer.activation\n",
    "        \n",
    "        input = K.placeholder(shape = layer.output_shape)\n",
    "\n",
    "        output = self.activation(input)\n",
    "        \n",
    "        # According to the original paper, \n",
    "        # In forward pass and backward pass, do the same activation(relu)\n",
    "        \n",
    "        # Up method\n",
    "        self.up_func = K.function([input, K.learning_phase()], [output])\n",
    "        \n",
    "        # Down method\n",
    "        self.down_func = K.function([input, K.learning_phase()], [output])\n",
    "   \n",
    "    def up(self, data, learning_phase = 0):\n",
    "        \n",
    "        self.up_data = self.up_func([data, learning_phase])\n",
    "        self.up_data = np.squeeze(self.up_data,axis=0)\n",
    "        self.up_data = np.expand_dims(self.up_data,axis=0)\n",
    "        \n",
    "        print(self.up_data.shape)\n",
    "        return self.up_data\n",
    "   \n",
    "    def down(self, data, learning_phase = 0):\n",
    "        \n",
    "        self.down_data = self.down_func([data, learning_phase])\n",
    "        self.down_data = np.squeeze(self.down_data,axis=0)\n",
    "        self.down_data = np.expand_dims(self.down_data,axis=0)\n",
    "        \n",
    "        print(self.down_data.shape)\n",
    "        return self.down_data"
   ]
  },
  {
   "cell_type": "code",
   "execution_count": 8,
   "metadata": {},
   "outputs": [],
   "source": [
    "class DInput(object):\n",
    "\n",
    "    def __init__(self, layer):\n",
    "        self.layer = layer\n",
    "    \n",
    "    # input and output of Inputl layer are the same\n",
    "    def up(self, data, learning_phase = 0):\n",
    " \n",
    "        self.up_data = data\n",
    "        return self.up_data\n",
    "    \n",
    "    def down(self, data, learning_phase = 0):\n",
    "\n",
    "        # data = np.squeeze(data,axis=0)\n",
    "        data = np.expand_dims(data,axis=0)\n",
    "        self.down_data = data\n",
    "        return self.down_data"
   ]
  },
  {
   "cell_type": "code",
   "execution_count": 9,
   "metadata": {},
   "outputs": [],
   "source": [
    "class DDense(object):\n",
    "  \n",
    "    def __init__(self, layer):\n",
    "\n",
    "        self.layer = layer\n",
    "        \n",
    "        weights = layer.get_weights()\n",
    "        W = weights[0]\n",
    "        b = weights[1]\n",
    "        \n",
    "        # Up method\n",
    "        input = Input(shape = layer.input_shape[1:])\n",
    "        \n",
    "        output = Dense( layer.output_shape[1],\n",
    "                        kernel_initializer = tf.constant_initializer(W),\n",
    "                        bias_initializer   = tf.constant_initializer(b)\n",
    "                      )(input)\n",
    "        \n",
    "        self.up_func = K.function([input, K.learning_phase()], [output])\n",
    "        \n",
    "        #Transpose W  for down method\n",
    "        W = W.transpose()\n",
    "        self.input_shape = layer.input_shape\n",
    "        self.output_shape = layer.output_shape\n",
    "        \n",
    "        b = np.zeros(self.input_shape[1])\n",
    "        flipped_weights = [W, b]\n",
    "        \n",
    "        input = Input(shape = self.output_shape[1:])\n",
    "        \n",
    "        output = Dense( self.input_shape[1:],\n",
    "                        kernel_initializer = tf.constant_initializer(W),\n",
    "                        bias_initializer   = tf.constant_initializer(b)\n",
    "                      )(input)\n",
    "        \n",
    "        self.down_func = K.function([input, K.learning_phase()], [output])\n",
    "\n",
    "    def up(self, data, learning_phase = 0):\n",
    "        \n",
    "        self.up_data = self.up_func([data, learning_phase])\n",
    "        self.up_data = np.squeeze(self.up_data,axis=0)\n",
    "        self.up_data = np.expand_dims(self.up_data,axis=0)\n",
    "        \n",
    "        print(self.up_data.shape)\n",
    "        return self.up_data\n",
    "        \n",
    "    def down(self, data, learning_phase = 0):\n",
    "    \n",
    "        self.down_data = self.down_func([data, learning_phase])\n",
    "        self.down_data = np.squeeze(self.down_data,axis=0)\n",
    "        self.down_data = np.expand_dims(self.down_data,axis=0)\n",
    "        \n",
    "        print(self.down_data.shape)\n",
    "        return self.down_data"
   ]
  },
  {
   "cell_type": "code",
   "execution_count": 10,
   "metadata": {},
   "outputs": [],
   "source": [
    "class DFlatten(object):\n",
    "\n",
    "    def __init__(self, layer):\n",
    "   \n",
    "        self.layer = layer\n",
    "        self.shape = layer.input_shape[1:]\n",
    "        \n",
    "        self.up_func = K.function([layer.input, K.learning_phase()], [layer.output])\n",
    "\n",
    "    # Flatten 2D input into 1D output\n",
    "    def up(self, data, learning_phase = 0):\n",
    "        \n",
    "        self.up_data = self.up_func([data, learning_phase])\n",
    "        self.up_data = np.squeeze(self.up_data,axis=0)\n",
    "        self.up_data = np.expand_dims(self.up_data,axis=0)\n",
    "\n",
    "        print(self.up_data.shape)\n",
    "        return self.up_data\n",
    "\n",
    "    # Reshape 1D input into 2D output\n",
    "    def down(self, data, learning_phase = 0):\n",
    "\n",
    "        new_shape = [data.shape[0]] + list(self.shape)\n",
    "        assert np.prod(self.shape) == np.prod(data.shape[1:])\n",
    "        self.down_data = np.reshape(data, new_shape)\n",
    "        return self.down_data"
   ]
  },
  {
   "cell_type": "code",
   "execution_count": 11,
   "metadata": {},
   "outputs": [],
   "source": [
    "class DPooling(object):\n",
    "\n",
    "    def __init__(self, layer):\n",
    "\n",
    "        self.layer = layer\n",
    "        self.poolsize = layer.pool_size\n",
    "       \n",
    "    \n",
    "    def up(self, data, learning_phase = 0):\n",
    "\n",
    "        [self.up_data, self.switch] = self.__max_pooling_with_switch(data, self.poolsize)\n",
    "        return self.up_data\n",
    "\n",
    "    def down(self, data, learning_phase = 0):\n",
    "      \n",
    "        self.down_data = self.__max_unpooling_with_switch(data, self.switch)\n",
    "        return self.down_data\n",
    "    \n",
    "    def __max_pooling_with_switch(self, input, poolsize):\n",
    "\n",
    "        switch = np.zeros(input.shape)\n",
    "        out_shape = list(input.shape)\n",
    "        \n",
    "        row_poolsize = int(poolsize[0])\n",
    "        col_poolsize = int(poolsize[1])\n",
    "        print(row_poolsize)\n",
    "        print(col_poolsize)\n",
    "        \n",
    "        out_shape[1] = math.floor(out_shape[1] / poolsize[0])\n",
    "        out_shape[2] = math.floor(out_shape[2] / poolsize[1])\n",
    "        print(out_shape)\n",
    "        \n",
    "        pooled = np.zeros(out_shape)\n",
    "        \n",
    "        for sample in range(input.shape[0]):\n",
    "            for dim in range(input.shape[3]):\n",
    "                for row in range(out_shape[1]):\n",
    "                    for col in range(out_shape[2]):\n",
    "                        \n",
    "                        patch = input[sample, \n",
    "                                row * row_poolsize : (row + 1) * row_poolsize,\n",
    "                                col * col_poolsize : (col + 1) * col_poolsize,\n",
    "                                dim]\n",
    "                        \n",
    "                        max_value = patch.max()\n",
    "                        pooled[sample, row, col,dim] = max_value\n",
    "                        \n",
    "                        max_col_index = patch.argmax(axis = 1)\n",
    "                        max_cols = patch.max(axis = 1)\n",
    "                        \n",
    "                        max_row = max_cols.argmax()\n",
    "                        max_col = max_col_index[max_row]\n",
    "                        \n",
    "                        switch[sample, \n",
    "                                row * row_poolsize + max_row, \n",
    "                                col * col_poolsize + max_col,\n",
    "                                dim] = 1\n",
    "                        \n",
    "        return [pooled, switch]\n",
    "    \n",
    "    # Compute unpooled output using pooled data and switch\n",
    "    def __max_unpooling_with_switch(self, input, switch):\n",
    "\n",
    "        print('switch '+str(switch.shape))\n",
    "        print('input  '+str(input.shape))\n",
    "        \n",
    "        tile = np.ones((math.floor(switch.shape[1] / input.shape[1]), \n",
    "                        math.floor(switch.shape[2] / input.shape[2])))\n",
    "        \n",
    "        print('tile '+str(tile.shape))\n",
    "        \n",
    "        tile  = np.expand_dims(tile, axis=3)\n",
    "        input = np.squeeze(input, axis=0)\n",
    "        \n",
    "        out = np.kron(input, tile)\n",
    "        print('out '+str(out.shape))\n",
    "        \n",
    "        unpooled = out * switch\n",
    "        unpooled = np.expand_dims(unpooled,axis=0)\n",
    "        return unpooled"
   ]
  },
  {
   "cell_type": "code",
   "execution_count": 12,
   "metadata": {},
   "outputs": [],
   "source": [
    "def visualize(model, data, layer_name, feature_to_visualize, visualize_mode):\n",
    "    \n",
    "    deconv_layers = []\n",
    "    \n",
    "    # Stack layers\n",
    "    for i in range(len(model.layers)):\n",
    "        \n",
    "        if isinstance(model.layers[i], Convolution2D):\n",
    "            \n",
    "            deconv_layers.append(DConvolution2D(model.layers[i]))\n",
    "            deconv_layers.append(DActivation(model.layers[i]))\n",
    "            \n",
    "        elif isinstance(model.layers[i], MaxPooling2D):\n",
    "            \n",
    "            deconv_layers.append(DPooling(model.layers[i]))\n",
    "            \n",
    "        elif isinstance(model.layers[i], Dense):\n",
    "            \n",
    "            deconv_layers.append(DDense(model.layers[i]))\n",
    "            deconv_layers.append(DActivation(model.layers[i]))\n",
    "            \n",
    "        elif isinstance(model.layers[i], Activation):\n",
    "            \n",
    "            deconv_layers.append(DActivation(model.alyers[i]))\n",
    "            \n",
    "        elif isinstance(model.layers[i], Flatten):\n",
    "            \n",
    "            deconv_layers.append(DFlatten(model.layers[i]))\n",
    "            \n",
    "        elif isinstance(model.layers[i], InputLayer):\n",
    "            \n",
    "            deconv_layers.append(DInput(model.layers[i]))\n",
    "        else:\n",
    "            print('Cannot handle this type of layer')\n",
    "            print(model.layers[i].get_config())\n",
    "            sys.exit()\n",
    "        if layer_name == model.layers[i].name:\n",
    "            break\n",
    "\n",
    "    # Forward pass\n",
    "    deconv_layers[0].up(data)\n",
    "    \n",
    "    for i in range(1, len(deconv_layers)):\n",
    "        deconv_layers[i].up(deconv_layers[i - 1].up_data)\n",
    "\n",
    "    output = deconv_layers[-1].up_data\n",
    "    print(output.shape)\n",
    "    \n",
    "    assert output.ndim == 2 or output.ndim == 4\n",
    "    \n",
    "    if output.ndim == 2:\n",
    "        feature_map = output[:, feature_to_visualize]\n",
    "    else:\n",
    "        feature_map = output[:,:, :, feature_to_visualize]\n",
    "    \n",
    "    if 'max' == visualize_mode:\n",
    "        \n",
    "        max_activation = feature_map.max()\n",
    "        temp = feature_map == max_activation\n",
    "        feature_map = feature_map * temp\n",
    "        \n",
    "    elif 'all' != visualize_mode:\n",
    "        \n",
    "        print('Illegal visualize mode')\n",
    "        sys.exit()\n",
    "    \n",
    "    output = np.zeros_like(output)\n",
    "    \n",
    "    if 2 == output.ndim:\n",
    "        output[:, feature_to_visualize] = feature_map\n",
    "    else:\n",
    "        output[:,: , :, feature_to_visualize] = feature_map\n",
    "\n",
    "    \n",
    "    # Backward pass\n",
    "    deconv_layers[-1].down(output)\n",
    "    \n",
    "    for i in range(len(deconv_layers) - 2, -1, -1):\n",
    "        deconv_layers[i].down(deconv_layers[i + 1].down_data)\n",
    "    \n",
    "    deconv = deconv_layers[0].down_data\n",
    "    deconv = deconv.squeeze()\n",
    "\n",
    "    return deconv"
   ]
  },
  {
   "cell_type": "code",
   "execution_count": 13,
   "metadata": {},
   "outputs": [],
   "source": [
    "# image_path = \"E:\\GitHub\\Transposed convolution Zeiler\\kangaroo.jpg\"\n",
    "image_path = \"Results/Deconvnet/kangaroo.jpg\"\n",
    "\n",
    "layer_name = 'block3_conv3'\n",
    "feature_to_visualize = 127\n",
    "visualize_mode = 'all'"
   ]
  },
  {
   "cell_type": "code",
   "execution_count": 14,
   "metadata": {
    "scrolled": true
   },
   "outputs": [
    {
     "name": "stderr",
     "output_type": "stream",
     "text": [
      "WARNING: Logging before flag parsing goes to stderr.\n",
      "W0301 21:59:38.061108  6836 deprecation_wrapper.py:119] From g:\\anaconda3\\envs\\gdl\\lib\\site-packages\\keras\\backend\\tensorflow_backend.py:74: The name tf.get_default_graph is deprecated. Please use tf.compat.v1.get_default_graph instead.\n",
      "\n",
      "W0301 21:59:38.078095  6836 deprecation_wrapper.py:119] From g:\\anaconda3\\envs\\gdl\\lib\\site-packages\\keras\\backend\\tensorflow_backend.py:517: The name tf.placeholder is deprecated. Please use tf.compat.v1.placeholder instead.\n",
      "\n",
      "W0301 21:59:38.080092  6836 deprecation_wrapper.py:119] From g:\\anaconda3\\envs\\gdl\\lib\\site-packages\\keras\\backend\\tensorflow_backend.py:4138: The name tf.random_uniform is deprecated. Please use tf.random.uniform instead.\n",
      "\n",
      "W0301 21:59:38.108074  6836 deprecation_wrapper.py:119] From g:\\anaconda3\\envs\\gdl\\lib\\site-packages\\keras\\backend\\tensorflow_backend.py:3976: The name tf.nn.max_pool is deprecated. Please use tf.nn.max_pool2d instead.\n",
      "\n",
      "W0301 21:59:39.762906  6836 deprecation_wrapper.py:119] From g:\\anaconda3\\envs\\gdl\\lib\\site-packages\\keras\\backend\\tensorflow_backend.py:174: The name tf.get_default_session is deprecated. Please use tf.compat.v1.get_default_session instead.\n",
      "\n",
      "W0301 21:59:39.763905  6836 deprecation_wrapper.py:119] From g:\\anaconda3\\envs\\gdl\\lib\\site-packages\\keras\\backend\\tensorflow_backend.py:181: The name tf.ConfigProto is deprecated. Please use tf.compat.v1.ConfigProto instead.\n",
      "\n"
     ]
    }
   ],
   "source": [
    "model = vgg16.VGG16(weights = 'imagenet', include_top = True)"
   ]
  },
  {
   "cell_type": "code",
   "execution_count": 15,
   "metadata": {},
   "outputs": [
    {
     "name": "stdout",
     "output_type": "stream",
     "text": [
      "_________________________________________________________________\n",
      "Layer (type)                 Output Shape              Param #   \n",
      "=================================================================\n",
      "input_1 (InputLayer)         (None, 224, 224, 3)       0         \n",
      "_________________________________________________________________\n",
      "block1_conv1 (Conv2D)        (None, 224, 224, 64)      1792      \n",
      "_________________________________________________________________\n",
      "block1_conv2 (Conv2D)        (None, 224, 224, 64)      36928     \n",
      "_________________________________________________________________\n",
      "block1_pool (MaxPooling2D)   (None, 112, 112, 64)      0         \n",
      "_________________________________________________________________\n",
      "block2_conv1 (Conv2D)        (None, 112, 112, 128)     73856     \n",
      "_________________________________________________________________\n",
      "block2_conv2 (Conv2D)        (None, 112, 112, 128)     147584    \n",
      "_________________________________________________________________\n",
      "block2_pool (MaxPooling2D)   (None, 56, 56, 128)       0         \n",
      "_________________________________________________________________\n",
      "block3_conv1 (Conv2D)        (None, 56, 56, 256)       295168    \n",
      "_________________________________________________________________\n",
      "block3_conv2 (Conv2D)        (None, 56, 56, 256)       590080    \n",
      "_________________________________________________________________\n",
      "block3_conv3 (Conv2D)        (None, 56, 56, 256)       590080    \n",
      "_________________________________________________________________\n",
      "block3_pool (MaxPooling2D)   (None, 28, 28, 256)       0         \n",
      "_________________________________________________________________\n",
      "block4_conv1 (Conv2D)        (None, 28, 28, 512)       1180160   \n",
      "_________________________________________________________________\n",
      "block4_conv2 (Conv2D)        (None, 28, 28, 512)       2359808   \n",
      "_________________________________________________________________\n",
      "block4_conv3 (Conv2D)        (None, 28, 28, 512)       2359808   \n",
      "_________________________________________________________________\n",
      "block4_pool (MaxPooling2D)   (None, 14, 14, 512)       0         \n",
      "_________________________________________________________________\n",
      "block5_conv1 (Conv2D)        (None, 14, 14, 512)       2359808   \n",
      "_________________________________________________________________\n",
      "block5_conv2 (Conv2D)        (None, 14, 14, 512)       2359808   \n",
      "_________________________________________________________________\n",
      "block5_conv3 (Conv2D)        (None, 14, 14, 512)       2359808   \n",
      "_________________________________________________________________\n",
      "block5_pool (MaxPooling2D)   (None, 7, 7, 512)         0         \n",
      "_________________________________________________________________\n",
      "flatten (Flatten)            (None, 25088)             0         \n",
      "_________________________________________________________________\n",
      "fc1 (Dense)                  (None, 4096)              102764544 \n",
      "_________________________________________________________________\n",
      "fc2 (Dense)                  (None, 4096)              16781312  \n",
      "_________________________________________________________________\n",
      "predictions (Dense)          (None, 1000)              4097000   \n",
      "=================================================================\n",
      "Total params: 138,357,544\n",
      "Trainable params: 138,357,544\n",
      "Non-trainable params: 0\n",
      "_________________________________________________________________\n"
     ]
    }
   ],
   "source": [
    "layer_dict = dict([(layer.name, layer) for layer in model.layers])\n",
    "\n",
    "model.summary()"
   ]
  },
  {
   "cell_type": "code",
   "execution_count": 16,
   "metadata": {},
   "outputs": [],
   "source": [
    "# Load data and preprocess\n",
    "img = Image.open(image_path)\n",
    "img = img.resize((224, 224),resample=PIL.Image.NEAREST)\n",
    "\n",
    "img_array = np.array(img)\n",
    "img_array = img_array[np.newaxis, :]\n",
    "img_array = img_array.astype(np.float)\n",
    "img_array = imagenet_utils.preprocess_input(img_array)"
   ]
  },
  {
   "cell_type": "code",
   "execution_count": 17,
   "metadata": {},
   "outputs": [
    {
     "name": "stderr",
     "output_type": "stream",
     "text": [
      "W0301 21:59:50.131134  6836 image.py:656] Clipping input data to the valid range for imshow with RGB data ([0..1] for floats or [0..255] for integers).\n"
     ]
    },
    {
     "data": {
      "image/png": "[encoded data removed]",
      "text/plain": [
       "<Figure size 432x288 with 1 Axes>"
      ]
     },
     "metadata": {
      "needs_background": "light"
     },
     "output_type": "display_data"
    }
   ],
   "source": [
    "#Original image\n",
    "plt.imshow(img_array[0])\n",
    "plt.show()"
   ]
  },
  {
   "cell_type": "code",
   "execution_count": 18,
   "metadata": {
    "scrolled": true
   },
   "outputs": [
    {
     "name": "stdout",
     "output_type": "stream",
     "text": [
      "(1, 224, 224, 64)\n",
      "(1, 224, 224, 64)\n",
      "2\n",
      "2\n",
      "[1, 112, 112, 64]\n",
      "(1, 112, 112, 128)\n",
      "(1, 112, 112, 128)\n",
      "2\n",
      "2\n",
      "[1, 56, 56, 128]\n",
      "(1, 56, 56, 256)\n",
      "(1, 56, 56, 256)\n",
      "(1, 56, 56, 256)\n",
      "(1, 56, 56, 256)\n",
      "(1, 56, 56, 256)\n",
      "(1, 56, 56, 256)\n",
      "(1, 56, 56, 256)\n",
      "switch (1, 112, 112, 128)\n",
      "input  (1, 56, 56, 128)\n",
      "tile (2, 2)\n",
      "out (112, 112, 128)\n",
      "(1, 112, 112, 128)\n",
      "(1, 112, 112, 128)\n"
     ]
    },
    {
     "name": "stderr",
     "output_type": "stream",
     "text": [
      "g:\\anaconda3\\envs\\gdl\\lib\\site-packages\\ipykernel_launcher.py:72: DeprecationWarning: Both axis > a.ndim and axis < -a.ndim - 1 are deprecated and will raise an AxisError in the future.\n"
     ]
    },
    {
     "name": "stdout",
     "output_type": "stream",
     "text": [
      "switch (1, 224, 224, 64)\n",
      "input  (1, 112, 112, 64)\n",
      "tile (2, 2)\n",
      "out (224, 224, 64)\n",
      "(1, 224, 224, 64)\n",
      "(1, 224, 224, 64)\n"
     ]
    }
   ],
   "source": [
    "deconv = visualize( model, img_array\n",
    "                  , layer_name\n",
    "                  , feature_to_visualize\n",
    "                  , visualize_mode\n",
    "                  )"
   ]
  },
  {
   "cell_type": "code",
   "execution_count": 19,
   "metadata": {},
   "outputs": [
    {
     "name": "stderr",
     "output_type": "stream",
     "text": [
      "W0301 22:00:41.824742  6836 image.py:656] Clipping input data to the valid range for imshow with RGB data ([0..1] for floats or [0..255] for integers).\n"
     ]
    },
    {
     "data": {
      "image/png": "[encoded data removed]",
      "text/plain": [
       "<Figure size 432x288 with 1 Axes>"
      ]
     },
     "metadata": {
      "needs_background": "light"
     },
     "output_type": "display_data"
    }
   ],
   "source": [
    "#After deconvolution-\n",
    "plt.imshow(deconv)\n",
    "plt.show()"
   ]
  },
  {
   "cell_type": "code",
   "execution_count": 20,
   "metadata": {},
   "outputs": [
    {
     "name": "stdout",
     "output_type": "stream",
     "text": [
      "(224, 224, 3)\n"
     ]
    }
   ],
   "source": [
    "print(deconv.shape)\n",
    "\n",
    "# postprocess and save image\n",
    "\n",
    "#deconv = np.transpose(deconv, ())\n",
    "deconv = deconv - deconv.min()\n",
    "deconv *= 1.0 / (deconv.max() + 1e-8)\n",
    "#deconv = deconv[:, :, ::-1]\n",
    "\n",
    "uint8_deconv = (deconv * 255).astype(np.uint8)"
   ]
  },
  {
   "cell_type": "code",
   "execution_count": 21,
   "metadata": {},
   "outputs": [
    {
     "data": {
      "image/png": "[encoded data removed]",
      "text/plain": [
       "<PIL.Image.Image image mode=RGB size=224x224 at 0x29E69917160>"
      ]
     },
     "execution_count": 21,
     "metadata": {},
     "output_type": "execute_result"
    }
   ],
   "source": [
    "img = Image.fromarray(uint8_deconv, 'RGB')\n",
    "img.save('Results/Deconvnet/kangaroo{}_{}_{}.png'.format(layer_name, feature_to_visualize, visualize_mode))\n",
    "plt.imshow(img)\n",
    "plt.show()"
   ]
  },
  {
   "cell_type": "code",
   "execution_count": null,
   "metadata": {},
   "outputs": [],
   "source": []
  }
 ],
 "metadata": {
  "kernelspec": {
   "display_name": "Python 3",
   "language": "python",
   "name": "python3"
  },
  "language_info": {
   "codemirror_mode": {
    "name": "ipython",
    "version": 3
   },
   "file_extension": ".py",
   "mimetype": "text/x-python",
   "name": "python",
   "nbconvert_exporter": "python",
   "pygments_lexer": "ipython3",
   "version": "3.6.6"
  }
 },
 "nbformat": 4,
 "nbformat_minor": 2
}
